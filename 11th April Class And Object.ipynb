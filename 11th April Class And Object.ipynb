{
 "cells": [
  {
   "cell_type": "code",
   "execution_count": null,
   "metadata": {},
   "outputs": [],
   "source": [
    "class car:\n",
    "    pass"
   ]
  },
  {
   "cell_type": "code",
   "execution_count": null,
   "metadata": {},
   "outputs": [],
   "source": [
    "audiq7 = car()"
   ]
  },
  {
   "cell_type": "code",
   "execution_count": null,
   "metadata": {},
   "outputs": [],
   "source": [
    "audiq7.mileage = 23\n",
    "audiq7.date = 12\n",
    "audiq7.model = 'FF'\n",
    "audiq7.year = 2020"
   ]
  },
  {
   "cell_type": "code",
   "execution_count": null,
   "metadata": {},
   "outputs": [],
   "source": [
    "audiq7.year"
   ]
  },
  {
   "cell_type": "code",
   "execution_count": null,
   "metadata": {},
   "outputs": [],
   "source": [
    "nano = car()"
   ]
  },
  {
   "cell_type": "code",
   "execution_count": null,
   "metadata": {},
   "outputs": [],
   "source": [
    "nano.mleage = 20\n",
    "nano.year = 2020\n",
    "nano.model = 'f4g4g'\n",
    "nano.date = 34\n",
    "nano.engineno = 4254546"
   ]
  },
  {
   "cell_type": "code",
   "execution_count": null,
   "metadata": {},
   "outputs": [],
   "source": [
    "nano.engineno"
   ]
  },
  {
   "cell_type": "code",
   "execution_count": null,
   "metadata": {},
   "outputs": [],
   "source": [
    "print(nano.engineno,audiq7.year)"
   ]
  },
  {
   "cell_type": "code",
   "execution_count": null,
   "metadata": {},
   "outputs": [],
   "source": [
    "class car:\n",
    "    def __init__(self,mileage,model,year):\n",
    "        self.mileage = mileage\n",
    "        self.model = model\n",
    "        self.year = year"
   ]
  },
  {
   "cell_type": "code",
   "execution_count": null,
   "metadata": {},
   "outputs": [],
   "source": [
    "nano1 = car(34,'656546',2020)"
   ]
  },
  {
   "cell_type": "code",
   "execution_count": null,
   "metadata": {},
   "outputs": [],
   "source": [
    "nano1.model"
   ]
  },
  {
   "cell_type": "code",
   "execution_count": null,
   "metadata": {},
   "outputs": [],
   "source": [
    "class car:\n",
    "    def __init__(a,m,y,ma,mo):\n",
    "        a.mileage = m\n",
    "        a.year = y\n",
    "        a.make = ma\n",
    "        a.model = mo\n",
    "        \n",
    "    def age(b,current_year):\n",
    "        return current_year - b.year\n",
    "    \n",
    "    def mileage1(self):\n",
    "        print(\"Print the mileage of the car : \",self.mileage)\n",
    "        \n",
    "    def __str__(c):\n",
    "        print(\"THis is my car class that Ihav created\")"
   ]
  },
  {
   "cell_type": "code",
   "execution_count": null,
   "metadata": {},
   "outputs": [],
   "source": [
    "rolls_royce = car(32,333,'6565',7)"
   ]
  },
  {
   "cell_type": "code",
   "execution_count": null,
   "metadata": {},
   "outputs": [],
   "source": [
    "rolls_royce.mileage1()"
   ]
  },
  {
   "cell_type": "code",
   "execution_count": null,
   "metadata": {},
   "outputs": [],
   "source": [
    "rolls_royce.age(1990)"
   ]
  },
  {
   "cell_type": "code",
   "execution_count": 2,
   "metadata": {},
   "outputs": [],
   "source": [
    "class student:\n",
    "    def __init__(self,name,age,roll_no,current_topic,joining_date):\n",
    "        self.name = name\n",
    "        self.age = age\n",
    "        self.roll_no = roll_no\n",
    "        self.current_topic = current_topic\n",
    "        self.joining_date = joining_date\n",
    "        \n",
    "    def crt_topic(self):\n",
    "        print(\"this is my current topic\",self.current_topic)\n",
    "        \n",
    "    def str_rollno(self):\n",
    "        if type(self.roll_no) == str:\n",
    "            print(\"Did nothing\")\n",
    "        else:\n",
    "            return str(self.roll_no)\n",
    "        \n",
    "    def duration(self,current_date):\n",
    "        print(\"Duration of my class is \",current_date - self.joining_date)\n",
    "        \n",
    "    def __str__(self):\n",
    "        return \"This is a student class\"\n",
    "        \n",
    "        \n",
    "        "
   ]
  },
  {
   "cell_type": "code",
   "execution_count": 3,
   "metadata": {},
   "outputs": [],
   "source": [
    "Abhi = student('Abhinav',22,2092,\"OOPS\",2020)"
   ]
  },
  {
   "cell_type": "code",
   "execution_count": 8,
   "metadata": {},
   "outputs": [
    {
     "name": "stdout",
     "output_type": "stream",
     "text": [
      "Duration of my class is  0\n"
     ]
    }
   ],
   "source": [
    "Abhi.duration(2020)"
   ]
  },
  {
   "cell_type": "code",
   "execution_count": 11,
   "metadata": {},
   "outputs": [
    {
     "data": {
      "text/plain": [
       "'Abhinav'"
      ]
     },
     "execution_count": 11,
     "metadata": {},
     "output_type": "execute_result"
    }
   ],
   "source": [
    "Abhi.name"
   ]
  },
  {
   "cell_type": "code",
   "execution_count": 12,
   "metadata": {},
   "outputs": [
    {
     "data": {
      "text/plain": [
       "<bound method student.str_rollno of <__main__.student object at 0x000001DF18EF6D60>>"
      ]
     },
     "execution_count": 12,
     "metadata": {},
     "output_type": "execute_result"
    }
   ],
   "source": [
    "Abhi.str_rollno"
   ]
  },
  {
   "cell_type": "code",
   "execution_count": 13,
   "metadata": {},
   "outputs": [
    {
     "name": "stdout",
     "output_type": "stream",
     "text": [
      "This is a student class\n"
     ]
    }
   ],
   "source": [
    "print(Abhi)"
   ]
  },
  {
   "cell_type": "code",
   "execution_count": 1,
   "metadata": {},
   "outputs": [],
   "source": [
    "class data:\n",
    "    def __init__(self,file_name,file_type,date,size):\n",
    "        self.file_name = file_name\n",
    "        self.file_type = file_type\n",
    "        self.date = date\n",
    "        self.size = size\n",
    "        \n",
    "    def file_open(self):\n",
    "        f = open(self.file_name,'w')\n",
    "        f.write(\"iNeuron-FSDS\")\n",
    "        \n",
    "    def file_read(self):\n",
    "        f = open(self.file_name,'r')\n",
    "        return f.read()\n",
    "    \n",
    "    def file_append(self):\n",
    "        f = open(self.file_append,'a')\n",
    "        f.write(\"Appended File\")"
   ]
  },
  {
   "cell_type": "code",
   "execution_count": null,
   "metadata": {},
   "outputs": [],
   "source": []
  }
 ],
 "metadata": {
  "kernelspec": {
   "display_name": "Python 3",
   "language": "python",
   "name": "python3"
  },
  "language_info": {
   "codemirror_mode": {
    "name": "ipython",
    "version": 3
   },
   "file_extension": ".py",
   "mimetype": "text/x-python",
   "name": "python",
   "nbconvert_exporter": "python",
   "pygments_lexer": "ipython3",
   "version": "3.8.5"
  }
 },
 "nbformat": 4,
 "nbformat_minor": 4
}
